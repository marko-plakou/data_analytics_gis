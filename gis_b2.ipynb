{
 "cells": [
  {
   "cell_type": "markdown",
   "metadata": {},
   "source": [
    "# 2.Data acquaintance and Pre-processing"
   ]
  },
  {
   "cell_type": "markdown",
   "metadata": {},
   "source": [
    "# Importing the libraries needed."
   ]
  },
  {
   "cell_type": "code",
   "execution_count": 1,
   "metadata": {},
   "outputs": [],
   "source": [
    "import psycopg2\n",
    "import psycopg2.extras\n",
    "import pandas as pd\n",
    "import numpy\n",
    "import shapely\n",
    "import geopandas as gpd\n",
    "import numpy as np\n",
    "import helper\n",
    "import calendar\n",
    "import os, sys\n",
    "import matplotlib.pyplot as plt\n",
    "import matplotlib.gridspec as gridspec\n",
    "from matplotlib import style\n"
   ]
  },
  {
   "cell_type": "code",
   "execution_count": 2,
   "metadata": {},
   "outputs": [],
   "source": [
    "PLT_FIG_WIDTH = 7\n",
    "PLT_FIG_HEIGHT = 3"
   ]
  },
  {
   "cell_type": "markdown",
   "metadata": {},
   "source": [
    "# Connect to the Postgres DB in order to acquire the raw ais data and the static data."
   ]
  },
  {
   "cell_type": "code",
   "execution_count": 3,
   "metadata": {},
   "outputs": [],
   "source": [
    "con = psycopg2.connect(database='geoinfo',  \n",
    "                       user='postgres',     \n",
    "                       password='markos1310',  \n",
    "                       host='localhost',  \n",
    "                       port=5432)"
   ]
  },
  {
   "cell_type": "code",
   "execution_count": 4,
   "metadata": {},
   "outputs": [],
   "source": [
    "cursor = con.cursor()"
   ]
  },
  {
   "cell_type": "code",
   "execution_count": 5,
   "metadata": {},
   "outputs": [],
   "source": [
    "sql_query1 = 'SELECT * FROM unipi_ais_feb_2018_raw;' #february ais\n",
    "feb_geodf = gpd.GeoDataFrame.from_postgis(sql_query1, con, geom_col='geom')"
   ]
  },
  {
   "cell_type": "code",
   "execution_count": 6,
   "metadata": {},
   "outputs": [],
   "source": [
    "sql_query2 = 'SELECT * FROM unipi_ais_mar_2018_raw;' #march ais\n",
    "\n",
    "mar_geodf = gpd.GeoDataFrame.from_postgis(sql_query2, con, geom_col='geom')"
   ]
  },
  {
   "cell_type": "code",
   "execution_count": 7,
   "metadata": {},
   "outputs": [],
   "source": [
    " sql_query3='SELECT * FROM ais_static;'#static data"
   ]
  },
  {
   "cell_type": "code",
   "execution_count": 8,
   "metadata": {},
   "outputs": [],
   "source": [
    " cursor.execute(sql_query3)"
   ]
  },
  {
   "cell_type": "code",
   "execution_count": 9,
   "metadata": {},
   "outputs": [],
   "source": [
    "columns_names = ['mmsi','imo','vessel_name','vessel_flag','vessel_type']"
   ]
  },
  {
   "cell_type": "code",
   "execution_count": 10,
   "metadata": {},
   "outputs": [],
   "source": [
    "static_df= pd.DataFrame(cursor.fetchall(),columns=columns_names)"
   ]
  },
  {
   "cell_type": "code",
   "execution_count": 11,
   "metadata": {},
   "outputs": [
    {
     "data": {
      "text/plain": [
       "65658"
      ]
     },
     "execution_count": 11,
     "metadata": {},
     "output_type": "execute_result"
    }
   ],
   "source": [
    "len(static_df) #inital length of staic data"
   ]
  },
  {
   "cell_type": "code",
   "execution_count": 12,
   "metadata": {},
   "outputs": [
    {
     "data": {
      "text/html": [
       "<div>\n",
       "<style scoped>\n",
       "    .dataframe tbody tr th:only-of-type {\n",
       "        vertical-align: middle;\n",
       "    }\n",
       "\n",
       "    .dataframe tbody tr th {\n",
       "        vertical-align: top;\n",
       "    }\n",
       "\n",
       "    .dataframe thead th {\n",
       "        text-align: right;\n",
       "    }\n",
       "</style>\n",
       "<table border=\"1\" class=\"dataframe\">\n",
       "  <thead>\n",
       "    <tr style=\"text-align: right;\">\n",
       "      <th></th>\n",
       "      <th>mmsi</th>\n",
       "      <th>imo</th>\n",
       "      <th>vessel_name</th>\n",
       "      <th>vessel_flag</th>\n",
       "      <th>vessel_type</th>\n",
       "    </tr>\n",
       "  </thead>\n",
       "  <tbody>\n",
       "    <tr>\n",
       "      <th>0</th>\n",
       "      <td>0</td>\n",
       "      <td>NaN</td>\n",
       "      <td>None</td>\n",
       "      <td>NO FLAG</td>\n",
       "      <td>None</td>\n",
       "    </tr>\n",
       "    <tr>\n",
       "      <th>1</th>\n",
       "      <td>56</td>\n",
       "      <td>9152985.0</td>\n",
       "      <td>HARMONY</td>\n",
       "      <td>NO FLAG</td>\n",
       "      <td>Oil Products Tanker</td>\n",
       "    </tr>\n",
       "    <tr>\n",
       "      <th>2</th>\n",
       "      <td>83</td>\n",
       "      <td>9037501.0</td>\n",
       "      <td>NIM WAN</td>\n",
       "      <td>NO FLAG</td>\n",
       "      <td>Container Ship</td>\n",
       "    </tr>\n",
       "    <tr>\n",
       "      <th>3</th>\n",
       "      <td>95</td>\n",
       "      <td>6325745.0</td>\n",
       "      <td>RSS BRAVE</td>\n",
       "      <td>NO FLAG</td>\n",
       "      <td>Other Type</td>\n",
       "    </tr>\n",
       "    <tr>\n",
       "      <th>4</th>\n",
       "      <td>98</td>\n",
       "      <td>9264594.0</td>\n",
       "      <td>PV DARING</td>\n",
       "      <td>NO FLAG</td>\n",
       "      <td>Not available</td>\n",
       "    </tr>\n",
       "  </tbody>\n",
       "</table>\n",
       "</div>"
      ],
      "text/plain": [
       "   mmsi        imo vessel_name vessel_flag          vessel_type\n",
       "0     0        NaN        None     NO FLAG                 None\n",
       "1    56  9152985.0     HARMONY     NO FLAG  Oil Products Tanker\n",
       "2    83  9037501.0     NIM WAN     NO FLAG       Container Ship\n",
       "3    95  6325745.0   RSS BRAVE     NO FLAG           Other Type\n",
       "4    98  9264594.0   PV DARING     NO FLAG        Not available"
      ]
     },
     "execution_count": 12,
     "metadata": {},
     "output_type": "execute_result"
    }
   ],
   "source": [
    "static_df.head()"
   ]
  },
  {
   "cell_type": "code",
   "execution_count": 13,
   "metadata": {},
   "outputs": [],
   "source": [
    "feb_geodf.sort_values('timestmp', inplace=True)#sort data by timestamp"
   ]
  },
  {
   "cell_type": "code",
   "execution_count": 14,
   "metadata": {},
   "outputs": [
    {
     "data": {
      "text/plain": [
       "6104342"
      ]
     },
     "execution_count": 14,
     "metadata": {},
     "output_type": "execute_result"
    }
   ],
   "source": [
    "len(feb_geodf) #initial length of ais in February (after the spatial outliers removal)"
   ]
  },
  {
   "cell_type": "code",
   "execution_count": 15,
   "metadata": {},
   "outputs": [],
   "source": [
    "mar_geodf.sort_values('timestmp', inplace=True)#sort data by timestamp"
   ]
  },
  {
   "cell_type": "code",
   "execution_count": 16,
   "metadata": {},
   "outputs": [
    {
     "data": {
      "text/plain": [
       "6701297"
      ]
     },
     "execution_count": 16,
     "metadata": {},
     "output_type": "execute_result"
    }
   ],
   "source": [
    "len(mar_geodf) #initial length of ais in March (after the spatial outliers removal)"
   ]
  },
  {
   "cell_type": "code",
   "execution_count": 17,
   "metadata": {},
   "outputs": [
    {
     "data": {
      "text/html": [
       "<div>\n",
       "<style scoped>\n",
       "    .dataframe tbody tr th:only-of-type {\n",
       "        vertical-align: middle;\n",
       "    }\n",
       "\n",
       "    .dataframe tbody tr th {\n",
       "        vertical-align: top;\n",
       "    }\n",
       "\n",
       "    .dataframe thead th {\n",
       "        text-align: right;\n",
       "    }\n",
       "</style>\n",
       "<table border=\"1\" class=\"dataframe\">\n",
       "  <thead>\n",
       "    <tr style=\"text-align: right;\">\n",
       "      <th></th>\n",
       "      <th>mmsi</th>\n",
       "      <th>timestmp</th>\n",
       "      <th>geom</th>\n",
       "      <th>lon</th>\n",
       "      <th>lat</th>\n",
       "      <th>speed</th>\n",
       "      <th>ais_type</th>\n",
       "      <th>ais_status</th>\n",
       "      <th>ais_heading</th>\n",
       "      <th>ais_turn</th>\n",
       "      <th>ais_course</th>\n",
       "    </tr>\n",
       "  </thead>\n",
       "  <tbody>\n",
       "    <tr>\n",
       "      <th>160676</th>\n",
       "      <td>237017200</td>\n",
       "      <td>1517436000000</td>\n",
       "      <td>POINT (23.56900 37.95528)</td>\n",
       "      <td>23.568995</td>\n",
       "      <td>37.955283</td>\n",
       "      <td>0.0</td>\n",
       "      <td>None</td>\n",
       "      <td>None</td>\n",
       "      <td>NaN</td>\n",
       "      <td>None</td>\n",
       "      <td>0.1</td>\n",
       "    </tr>\n",
       "    <tr>\n",
       "      <th>160677</th>\n",
       "      <td>319092600</td>\n",
       "      <td>1517436000000</td>\n",
       "      <td>POINT (23.64761 37.93285)</td>\n",
       "      <td>23.647613</td>\n",
       "      <td>37.932847</td>\n",
       "      <td>0.0</td>\n",
       "      <td>None</td>\n",
       "      <td>None</td>\n",
       "      <td>135.0</td>\n",
       "      <td>None</td>\n",
       "      <td>314.3</td>\n",
       "    </tr>\n",
       "    <tr>\n",
       "      <th>160678</th>\n",
       "      <td>235100119</td>\n",
       "      <td>1517436001000</td>\n",
       "      <td>POINT (23.68193 37.93263)</td>\n",
       "      <td>23.681927</td>\n",
       "      <td>37.932628</td>\n",
       "      <td>0.0</td>\n",
       "      <td>None</td>\n",
       "      <td>None</td>\n",
       "      <td>242.0</td>\n",
       "      <td>None</td>\n",
       "      <td>259.1</td>\n",
       "    </tr>\n",
       "    <tr>\n",
       "      <th>160679</th>\n",
       "      <td>237008100</td>\n",
       "      <td>1517436002000</td>\n",
       "      <td>POINT (23.64102 37.94490)</td>\n",
       "      <td>23.641023</td>\n",
       "      <td>37.944897</td>\n",
       "      <td>0.0</td>\n",
       "      <td>None</td>\n",
       "      <td>None</td>\n",
       "      <td>NaN</td>\n",
       "      <td>None</td>\n",
       "      <td>NaN</td>\n",
       "    </tr>\n",
       "    <tr>\n",
       "      <th>99</th>\n",
       "      <td>239864200</td>\n",
       "      <td>1517436004000</td>\n",
       "      <td>POINT (23.61501 37.94470)</td>\n",
       "      <td>23.615015</td>\n",
       "      <td>37.944697</td>\n",
       "      <td>0.0</td>\n",
       "      <td>None</td>\n",
       "      <td>None</td>\n",
       "      <td>NaN</td>\n",
       "      <td>None</td>\n",
       "      <td>207.7</td>\n",
       "    </tr>\n",
       "  </tbody>\n",
       "</table>\n",
       "</div>"
      ],
      "text/plain": [
       "             mmsi       timestmp                       geom        lon  \\\n",
       "160676  237017200  1517436000000  POINT (23.56900 37.95528)  23.568995   \n",
       "160677  319092600  1517436000000  POINT (23.64761 37.93285)  23.647613   \n",
       "160678  235100119  1517436001000  POINT (23.68193 37.93263)  23.681927   \n",
       "160679  237008100  1517436002000  POINT (23.64102 37.94490)  23.641023   \n",
       "99      239864200  1517436004000  POINT (23.61501 37.94470)  23.615015   \n",
       "\n",
       "              lat  speed ais_type ais_status  ais_heading ais_turn  ais_course  \n",
       "160676  37.955283    0.0     None       None          NaN     None         0.1  \n",
       "160677  37.932847    0.0     None       None        135.0     None       314.3  \n",
       "160678  37.932628    0.0     None       None        242.0     None       259.1  \n",
       "160679  37.944897    0.0     None       None          NaN     None         NaN  \n",
       "99      37.944697    0.0     None       None          NaN     None       207.7  "
      ]
     },
     "execution_count": 17,
     "metadata": {},
     "output_type": "execute_result"
    }
   ],
   "source": [
    "feb_geodf.head()"
   ]
  },
  {
   "cell_type": "code",
   "execution_count": 18,
   "metadata": {},
   "outputs": [
    {
     "data": {
      "text/html": [
       "<div>\n",
       "<style scoped>\n",
       "    .dataframe tbody tr th:only-of-type {\n",
       "        vertical-align: middle;\n",
       "    }\n",
       "\n",
       "    .dataframe tbody tr th {\n",
       "        vertical-align: top;\n",
       "    }\n",
       "\n",
       "    .dataframe thead th {\n",
       "        text-align: right;\n",
       "    }\n",
       "</style>\n",
       "<table border=\"1\" class=\"dataframe\">\n",
       "  <thead>\n",
       "    <tr style=\"text-align: right;\">\n",
       "      <th></th>\n",
       "      <th>mmsi</th>\n",
       "      <th>timestmp</th>\n",
       "      <th>geom</th>\n",
       "      <th>lon</th>\n",
       "      <th>lat</th>\n",
       "      <th>speed</th>\n",
       "      <th>ais_type</th>\n",
       "      <th>ais_status</th>\n",
       "      <th>ais_heading</th>\n",
       "      <th>ais_turn</th>\n",
       "      <th>ais_course</th>\n",
       "    </tr>\n",
       "  </thead>\n",
       "  <tbody>\n",
       "    <tr>\n",
       "      <th>241124</th>\n",
       "      <td>636013190</td>\n",
       "      <td>1519855200000</td>\n",
       "      <td>POINT (23.53934 37.88567)</td>\n",
       "      <td>23.539338</td>\n",
       "      <td>37.885675</td>\n",
       "      <td>1.4</td>\n",
       "      <td>None</td>\n",
       "      <td>None</td>\n",
       "      <td>44.0</td>\n",
       "      <td>None</td>\n",
       "      <td>15.5</td>\n",
       "    </tr>\n",
       "    <tr>\n",
       "      <th>241125</th>\n",
       "      <td>241024000</td>\n",
       "      <td>1519855201000</td>\n",
       "      <td>POINT (23.65010 37.93166)</td>\n",
       "      <td>23.650097</td>\n",
       "      <td>37.931657</td>\n",
       "      <td>0.0</td>\n",
       "      <td>None</td>\n",
       "      <td>None</td>\n",
       "      <td>332.0</td>\n",
       "      <td>None</td>\n",
       "      <td>178.1</td>\n",
       "    </tr>\n",
       "    <tr>\n",
       "      <th>241126</th>\n",
       "      <td>237991700</td>\n",
       "      <td>1519855201000</td>\n",
       "      <td>POINT (23.54615 37.94995)</td>\n",
       "      <td>23.546150</td>\n",
       "      <td>37.949950</td>\n",
       "      <td>0.0</td>\n",
       "      <td>None</td>\n",
       "      <td>None</td>\n",
       "      <td>NaN</td>\n",
       "      <td>None</td>\n",
       "      <td>268.0</td>\n",
       "    </tr>\n",
       "    <tr>\n",
       "      <th>241127</th>\n",
       "      <td>239722800</td>\n",
       "      <td>1519855201000</td>\n",
       "      <td>POINT (23.63220 37.94397)</td>\n",
       "      <td>23.632205</td>\n",
       "      <td>37.943968</td>\n",
       "      <td>0.0</td>\n",
       "      <td>None</td>\n",
       "      <td>None</td>\n",
       "      <td>NaN</td>\n",
       "      <td>None</td>\n",
       "      <td>0.0</td>\n",
       "    </tr>\n",
       "    <tr>\n",
       "      <th>241128</th>\n",
       "      <td>239550200</td>\n",
       "      <td>1519855201000</td>\n",
       "      <td>POINT (23.64085 37.94716)</td>\n",
       "      <td>23.640850</td>\n",
       "      <td>37.947157</td>\n",
       "      <td>0.0</td>\n",
       "      <td>None</td>\n",
       "      <td>None</td>\n",
       "      <td>264.0</td>\n",
       "      <td>None</td>\n",
       "      <td>142.1</td>\n",
       "    </tr>\n",
       "  </tbody>\n",
       "</table>\n",
       "</div>"
      ],
      "text/plain": [
       "             mmsi       timestmp                       geom        lon  \\\n",
       "241124  636013190  1519855200000  POINT (23.53934 37.88567)  23.539338   \n",
       "241125  241024000  1519855201000  POINT (23.65010 37.93166)  23.650097   \n",
       "241126  237991700  1519855201000  POINT (23.54615 37.94995)  23.546150   \n",
       "241127  239722800  1519855201000  POINT (23.63220 37.94397)  23.632205   \n",
       "241128  239550200  1519855201000  POINT (23.64085 37.94716)  23.640850   \n",
       "\n",
       "              lat  speed ais_type ais_status  ais_heading ais_turn  ais_course  \n",
       "241124  37.885675    1.4     None       None         44.0     None        15.5  \n",
       "241125  37.931657    0.0     None       None        332.0     None       178.1  \n",
       "241126  37.949950    0.0     None       None          NaN     None       268.0  \n",
       "241127  37.943968    0.0     None       None          NaN     None         0.0  \n",
       "241128  37.947157    0.0     None       None        264.0     None       142.1  "
      ]
     },
     "execution_count": 18,
     "metadata": {},
     "output_type": "execute_result"
    }
   ],
   "source": [
    "mar_geodf.head()"
   ]
  },
  {
   "cell_type": "markdown",
   "metadata": {},
   "source": [
    "## 2.1 Clean the noise "
   ]
  },
  {
   "cell_type": "code",
   "execution_count": 19,
   "metadata": {},
   "outputs": [],
   "source": [
    "def static_data_preprocessing(sdf):\n",
    "    sdf=sdf.dropna() #delete every row with at least one nan value\n",
    "    sdf= sdf[sdf.vessel_flag != 'NO FLAG'] #delete rows that has the values NO FLAG\n",
    "    return sdf"
   ]
  },
  {
   "cell_type": "code",
   "execution_count": 20,
   "metadata": {},
   "outputs": [],
   "source": [
    "static_df=static_data_preprocessing(static_df)"
   ]
  },
  {
   "cell_type": "code",
   "execution_count": 21,
   "metadata": {},
   "outputs": [
    {
     "data": {
      "text/plain": [
       "63877"
      ]
     },
     "execution_count": 21,
     "metadata": {},
     "output_type": "execute_result"
    }
   ],
   "source": [
    "len(static_df) #the length of the static dataset after the preprocessing."
   ]
  },
  {
   "cell_type": "code",
   "execution_count": 22,
   "metadata": {},
   "outputs": [],
   "source": [
    "def data_preprocessing(geo_df):\n",
    "    geo_df.drop_duplicates(subset=['mmsi','timestmp'], inplace=True)#drop duplicates\n",
    "    geo_df.dropna(subset=['timestmp','speed'], inplace=True) #drop nan values\n",
    "    geo_df=geo_df.loc[geo_df['mmsi'].isin(static_df['mmsi'])] #drop values that are not registered in static dataset.\n",
    "    geo_df=geo_df.loc[geo_df.speed < 50].copy() #drop values where the speed surpasses the 50 knots threshold\n",
    "    #Converting time from msec. to sec.\n",
    "    geo_df.loc[:, 'timestamp_sec'] = geo_df.timestmp/10**3\n",
    "    geo_df=geo_df.rename(columns={'speed':'velocity'})\n",
    "    #Calculate acceleration\n",
    "    geo_df = geo_df.groupby('mmsi', group_keys=False).apply(lambda gdf: helper.calculate_acceleration(gdf, ts_column='timestamp_sec'))\n",
    "    return geo_df"
   ]
  },
  {
   "cell_type": "code",
   "execution_count": 23,
   "metadata": {},
   "outputs": [],
   "source": [
    "final_feb_geodf=data_preprocessing(feb_geodf)"
   ]
  },
  {
   "cell_type": "code",
   "execution_count": 24,
   "metadata": {},
   "outputs": [
    {
     "data": {
      "text/plain": [
       "4960765"
      ]
     },
     "execution_count": 24,
     "metadata": {},
     "output_type": "execute_result"
    }
   ],
   "source": [
    "len(final_feb_geodf) #the final length of the February dataset."
   ]
  },
  {
   "cell_type": "code",
   "execution_count": 25,
   "metadata": {},
   "outputs": [
    {
     "data": {
      "text/html": [
       "<div>\n",
       "<style scoped>\n",
       "    .dataframe tbody tr th:only-of-type {\n",
       "        vertical-align: middle;\n",
       "    }\n",
       "\n",
       "    .dataframe tbody tr th {\n",
       "        vertical-align: top;\n",
       "    }\n",
       "\n",
       "    .dataframe thead th {\n",
       "        text-align: right;\n",
       "    }\n",
       "</style>\n",
       "<table border=\"1\" class=\"dataframe\">\n",
       "  <thead>\n",
       "    <tr style=\"text-align: right;\">\n",
       "      <th></th>\n",
       "      <th>mmsi</th>\n",
       "      <th>timestmp</th>\n",
       "      <th>geom</th>\n",
       "      <th>lon</th>\n",
       "      <th>lat</th>\n",
       "      <th>velocity</th>\n",
       "      <th>ais_type</th>\n",
       "      <th>ais_status</th>\n",
       "      <th>ais_heading</th>\n",
       "      <th>ais_turn</th>\n",
       "      <th>ais_course</th>\n",
       "      <th>timestamp_sec</th>\n",
       "      <th>acceleration</th>\n",
       "    </tr>\n",
       "  </thead>\n",
       "  <tbody>\n",
       "    <tr>\n",
       "      <th>160676</th>\n",
       "      <td>237017200</td>\n",
       "      <td>1517436000000</td>\n",
       "      <td>POINT (23.56900 37.95528)</td>\n",
       "      <td>23.568995</td>\n",
       "      <td>37.955283</td>\n",
       "      <td>0.0</td>\n",
       "      <td>None</td>\n",
       "      <td>None</td>\n",
       "      <td>NaN</td>\n",
       "      <td>None</td>\n",
       "      <td>0.1</td>\n",
       "      <td>1.517436e+09</td>\n",
       "      <td>0.0</td>\n",
       "    </tr>\n",
       "    <tr>\n",
       "      <th>160679</th>\n",
       "      <td>237008100</td>\n",
       "      <td>1517436002000</td>\n",
       "      <td>POINT (23.64102 37.94490)</td>\n",
       "      <td>23.641023</td>\n",
       "      <td>37.944897</td>\n",
       "      <td>0.0</td>\n",
       "      <td>None</td>\n",
       "      <td>None</td>\n",
       "      <td>NaN</td>\n",
       "      <td>None</td>\n",
       "      <td>NaN</td>\n",
       "      <td>1.517436e+09</td>\n",
       "      <td>0.0</td>\n",
       "    </tr>\n",
       "    <tr>\n",
       "      <th>98</th>\n",
       "      <td>239737000</td>\n",
       "      <td>1517436004000</td>\n",
       "      <td>POINT (23.62549 37.94088)</td>\n",
       "      <td>23.625490</td>\n",
       "      <td>37.940883</td>\n",
       "      <td>0.0</td>\n",
       "      <td>None</td>\n",
       "      <td>None</td>\n",
       "      <td>152.0</td>\n",
       "      <td>None</td>\n",
       "      <td>0.0</td>\n",
       "      <td>1.517436e+09</td>\n",
       "      <td>0.0</td>\n",
       "    </tr>\n",
       "    <tr>\n",
       "      <th>97</th>\n",
       "      <td>249136000</td>\n",
       "      <td>1517436004000</td>\n",
       "      <td>POINT (23.59589 37.95244)</td>\n",
       "      <td>23.595890</td>\n",
       "      <td>37.952443</td>\n",
       "      <td>0.0</td>\n",
       "      <td>None</td>\n",
       "      <td>None</td>\n",
       "      <td>348.0</td>\n",
       "      <td>None</td>\n",
       "      <td>313.1</td>\n",
       "      <td>1.517436e+09</td>\n",
       "      <td>0.0</td>\n",
       "    </tr>\n",
       "    <tr>\n",
       "      <th>100</th>\n",
       "      <td>239299000</td>\n",
       "      <td>1517436005000</td>\n",
       "      <td>POINT (23.65033 37.93317)</td>\n",
       "      <td>23.650333</td>\n",
       "      <td>37.933167</td>\n",
       "      <td>0.0</td>\n",
       "      <td>None</td>\n",
       "      <td>None</td>\n",
       "      <td>187.0</td>\n",
       "      <td>None</td>\n",
       "      <td>140.0</td>\n",
       "      <td>1.517436e+09</td>\n",
       "      <td>0.0</td>\n",
       "    </tr>\n",
       "  </tbody>\n",
       "</table>\n",
       "</div>"
      ],
      "text/plain": [
       "             mmsi       timestmp                       geom        lon  \\\n",
       "160676  237017200  1517436000000  POINT (23.56900 37.95528)  23.568995   \n",
       "160679  237008100  1517436002000  POINT (23.64102 37.94490)  23.641023   \n",
       "98      239737000  1517436004000  POINT (23.62549 37.94088)  23.625490   \n",
       "97      249136000  1517436004000  POINT (23.59589 37.95244)  23.595890   \n",
       "100     239299000  1517436005000  POINT (23.65033 37.93317)  23.650333   \n",
       "\n",
       "              lat  velocity ais_type ais_status  ais_heading ais_turn  \\\n",
       "160676  37.955283       0.0     None       None          NaN     None   \n",
       "160679  37.944897       0.0     None       None          NaN     None   \n",
       "98      37.940883       0.0     None       None        152.0     None   \n",
       "97      37.952443       0.0     None       None        348.0     None   \n",
       "100     37.933167       0.0     None       None        187.0     None   \n",
       "\n",
       "        ais_course  timestamp_sec  acceleration  \n",
       "160676         0.1   1.517436e+09           0.0  \n",
       "160679         NaN   1.517436e+09           0.0  \n",
       "98             0.0   1.517436e+09           0.0  \n",
       "97           313.1   1.517436e+09           0.0  \n",
       "100          140.0   1.517436e+09           0.0  "
      ]
     },
     "execution_count": 25,
     "metadata": {},
     "output_type": "execute_result"
    }
   ],
   "source": [
    "final_feb_geodf.head()"
   ]
  },
  {
   "cell_type": "code",
   "execution_count": 26,
   "metadata": {},
   "outputs": [],
   "source": [
    "final_mar_geodf=data_preprocessing(mar_geodf)"
   ]
  },
  {
   "cell_type": "code",
   "execution_count": 27,
   "metadata": {},
   "outputs": [
    {
     "data": {
      "text/plain": [
       "5116284"
      ]
     },
     "execution_count": 27,
     "metadata": {},
     "output_type": "execute_result"
    }
   ],
   "source": [
    "len(final_mar_geodf)#the final length of the March dataset."
   ]
  },
  {
   "cell_type": "code",
   "execution_count": 28,
   "metadata": {},
   "outputs": [
    {
     "data": {
      "text/html": [
       "<div>\n",
       "<style scoped>\n",
       "    .dataframe tbody tr th:only-of-type {\n",
       "        vertical-align: middle;\n",
       "    }\n",
       "\n",
       "    .dataframe tbody tr th {\n",
       "        vertical-align: top;\n",
       "    }\n",
       "\n",
       "    .dataframe thead th {\n",
       "        text-align: right;\n",
       "    }\n",
       "</style>\n",
       "<table border=\"1\" class=\"dataframe\">\n",
       "  <thead>\n",
       "    <tr style=\"text-align: right;\">\n",
       "      <th></th>\n",
       "      <th>mmsi</th>\n",
       "      <th>timestmp</th>\n",
       "      <th>geom</th>\n",
       "      <th>lon</th>\n",
       "      <th>lat</th>\n",
       "      <th>velocity</th>\n",
       "      <th>ais_type</th>\n",
       "      <th>ais_status</th>\n",
       "      <th>ais_heading</th>\n",
       "      <th>ais_turn</th>\n",
       "      <th>ais_course</th>\n",
       "      <th>timestamp_sec</th>\n",
       "      <th>acceleration</th>\n",
       "    </tr>\n",
       "  </thead>\n",
       "  <tbody>\n",
       "    <tr>\n",
       "      <th>241124</th>\n",
       "      <td>636013190</td>\n",
       "      <td>1519855200000</td>\n",
       "      <td>POINT (23.53934 37.88567)</td>\n",
       "      <td>23.539338</td>\n",
       "      <td>37.885675</td>\n",
       "      <td>1.4</td>\n",
       "      <td>None</td>\n",
       "      <td>None</td>\n",
       "      <td>44.0</td>\n",
       "      <td>None</td>\n",
       "      <td>15.5</td>\n",
       "      <td>1.519855e+09</td>\n",
       "      <td>-0.01</td>\n",
       "    </tr>\n",
       "    <tr>\n",
       "      <th>241125</th>\n",
       "      <td>241024000</td>\n",
       "      <td>1519855201000</td>\n",
       "      <td>POINT (23.65010 37.93166)</td>\n",
       "      <td>23.650097</td>\n",
       "      <td>37.931657</td>\n",
       "      <td>0.0</td>\n",
       "      <td>None</td>\n",
       "      <td>None</td>\n",
       "      <td>332.0</td>\n",
       "      <td>None</td>\n",
       "      <td>178.1</td>\n",
       "      <td>1.519855e+09</td>\n",
       "      <td>0.00</td>\n",
       "    </tr>\n",
       "    <tr>\n",
       "      <th>241126</th>\n",
       "      <td>237991700</td>\n",
       "      <td>1519855201000</td>\n",
       "      <td>POINT (23.54615 37.94995)</td>\n",
       "      <td>23.546150</td>\n",
       "      <td>37.949950</td>\n",
       "      <td>0.0</td>\n",
       "      <td>None</td>\n",
       "      <td>None</td>\n",
       "      <td>NaN</td>\n",
       "      <td>None</td>\n",
       "      <td>268.0</td>\n",
       "      <td>1.519855e+09</td>\n",
       "      <td>0.00</td>\n",
       "    </tr>\n",
       "    <tr>\n",
       "      <th>241127</th>\n",
       "      <td>239722800</td>\n",
       "      <td>1519855201000</td>\n",
       "      <td>POINT (23.63220 37.94397)</td>\n",
       "      <td>23.632205</td>\n",
       "      <td>37.943968</td>\n",
       "      <td>0.0</td>\n",
       "      <td>None</td>\n",
       "      <td>None</td>\n",
       "      <td>NaN</td>\n",
       "      <td>None</td>\n",
       "      <td>0.0</td>\n",
       "      <td>1.519855e+09</td>\n",
       "      <td>0.00</td>\n",
       "    </tr>\n",
       "    <tr>\n",
       "      <th>241128</th>\n",
       "      <td>239550200</td>\n",
       "      <td>1519855201000</td>\n",
       "      <td>POINT (23.64085 37.94716)</td>\n",
       "      <td>23.640850</td>\n",
       "      <td>37.947157</td>\n",
       "      <td>0.0</td>\n",
       "      <td>None</td>\n",
       "      <td>None</td>\n",
       "      <td>264.0</td>\n",
       "      <td>None</td>\n",
       "      <td>142.1</td>\n",
       "      <td>1.519855e+09</td>\n",
       "      <td>0.00</td>\n",
       "    </tr>\n",
       "  </tbody>\n",
       "</table>\n",
       "</div>"
      ],
      "text/plain": [
       "             mmsi       timestmp                       geom        lon  \\\n",
       "241124  636013190  1519855200000  POINT (23.53934 37.88567)  23.539338   \n",
       "241125  241024000  1519855201000  POINT (23.65010 37.93166)  23.650097   \n",
       "241126  237991700  1519855201000  POINT (23.54615 37.94995)  23.546150   \n",
       "241127  239722800  1519855201000  POINT (23.63220 37.94397)  23.632205   \n",
       "241128  239550200  1519855201000  POINT (23.64085 37.94716)  23.640850   \n",
       "\n",
       "              lat  velocity ais_type ais_status  ais_heading ais_turn  \\\n",
       "241124  37.885675       1.4     None       None         44.0     None   \n",
       "241125  37.931657       0.0     None       None        332.0     None   \n",
       "241126  37.949950       0.0     None       None          NaN     None   \n",
       "241127  37.943968       0.0     None       None          NaN     None   \n",
       "241128  37.947157       0.0     None       None        264.0     None   \n",
       "\n",
       "        ais_course  timestamp_sec  acceleration  \n",
       "241124        15.5   1.519855e+09         -0.01  \n",
       "241125       178.1   1.519855e+09          0.00  \n",
       "241126       268.0   1.519855e+09          0.00  \n",
       "241127         0.0   1.519855e+09          0.00  \n",
       "241128       142.1   1.519855e+09          0.00  "
      ]
     },
     "execution_count": 28,
     "metadata": {},
     "output_type": "execute_result"
    }
   ],
   "source": [
    "final_mar_geodf.head()"
   ]
  },
  {
   "cell_type": "markdown",
   "metadata": {},
   "source": [
    "# 2.2 Sampling Rate Histogram"
   ]
  },
  {
   "cell_type": "markdown",
   "metadata": {},
   "source": [
    "# Calculating the sampling rate by weekday and Plot the results with bar plot."
   ]
  },
  {
   "cell_type": "markdown",
   "metadata": {},
   "source": [
    "## SAMPLING RATE BY WEEKDAY IN FEBRUARY"
   ]
  },
  {
   "cell_type": "code",
   "execution_count": 33,
   "metadata": {},
   "outputs": [],
   "source": [
    "total_records_per_feb_wd = final_feb_geodf.groupby([pd.to_datetime(final_feb_geodf.timestmp, unit=\"ms\").dt.date]).apply(len).to_frame().reset_index()\n",
    "total_records_per_feb_wd.loc[:, 'day_name'] = pd.to_datetime(total_records_per_feb_wd.timestmp).dt.day_name()\n",
    "total_records_per_feb_wd.loc[:, 'day_name'] = pd.Categorical(total_records_per_feb_wd.day_name, categories=list(calendar.day_name), ordered=True)\n",
    "total_records_per_feb_wd.sort_values('day_name', inplace=True)\n",
    "total_records_per_feb_wd=total_records_per_feb_wd.groupby(total_records_per_feb_wd.day_name).apply(sum)"
   ]
  },
  {
   "cell_type": "code",
   "execution_count": 34,
   "metadata": {},
   "outputs": [
    {
     "data": {
      "image/png": "[encoded data removed]",
      "text/plain": [
       "<Figure size 504x216 with 1 Axes>"
      ]
     },
     "metadata": {
      "needs_background": "light"
     },
     "output_type": "display_data"
    }
   ],
   "source": [
    "total_records_per_feb_wd.plot.bar(cmap='tab20', figsize=(PLT_FIG_WIDTH,PLT_FIG_HEIGHT), fontsize=9, width=0.75, legend=False, rot=30)\n",
    "\n",
    "plt.ticklabel_format(style='sci', axis='y', scilimits=(0,0))\n",
    "plt.suptitle(r' Total AIS activity per  weekday in February', fontsize=9, y=1)\n",
    "plt.xlabel(r'Weekday', fontsize=8)\n",
    "plt.ylabel(r'Number of records x 10000', fontsize=9)\n",
    "#plt.savefig('./total_ais_feb.png')\n",
    "plt.show()"
   ]
  },
  {
   "cell_type": "markdown",
   "metadata": {},
   "source": [
    "## SAMPLING RATE BY WEEKDAY IN MARCH "
   ]
  },
  {
   "cell_type": "code",
   "execution_count": 36,
   "metadata": {},
   "outputs": [],
   "source": [
    "total_records_per_mar_wd = final_mar_geodf.groupby([pd.to_datetime(final_mar_geodf.timestmp, unit=\"ms\").dt.date]).apply(len).to_frame().reset_index()\n",
    "total_records_per_mar_wd.loc[:, 'day_name'] = pd.to_datetime(total_records_per_mar_wd.timestmp).dt.day_name()\n",
    "total_records_per_mar_wd.loc[:, 'day_name'] = pd.Categorical(total_records_per_mar_wd.day_name, categories=list(calendar.day_name), ordered=True)\n",
    "total_records_per_mar_wd.sort_values('day_name', inplace=True)\n",
    "total_records_per_mar_wd=total_records_per_mar_wd.groupby(total_records_per_mar_wd.day_name).apply(sum)"
   ]
  },
  {
   "cell_type": "code",
   "execution_count": 36,
   "metadata": {},
   "outputs": [
    {
     "data": {
      "image/png": "[encoded data removed]",
      "text/plain": [
       "<Figure size 504x216 with 1 Axes>"
      ]
     },
     "metadata": {
      "needs_background": "light"
     },
     "output_type": "display_data"
    }
   ],
   "source": [
    "total_records_per_mar_wd .plot.bar(cmap='tab20', figsize=(PLT_FIG_WIDTH,PLT_FIG_HEIGHT), fontsize=9, width=0.75, legend=False, rot=30)\n",
    "\n",
    "plt.ticklabel_format(style='sci', axis='y', scilimits=(0,0))\n",
    "plt.suptitle(r' Total AIS activity per  weekday in March', fontsize=9, y=1)\n",
    "plt.xlabel(r'Weekday', fontsize=8)\n",
    "plt.ylabel(r'Number of records x 10000', fontsize=9)\n",
    "#plt.savefig('./total_ais_mar.png')\n",
    "plt.show()"
   ]
  },
  {
   "cell_type": "markdown",
   "metadata": {},
   "source": [
    "## Calculate the  average sampling rate per weekday and Plot the results with a line plot."
   ]
  },
  {
   "cell_type": "markdown",
   "metadata": {},
   "source": [
    "## AVERAGE SAMPLING RATE PER WEEKDAY IN FEBRUARY "
   ]
  },
  {
   "cell_type": "code",
   "execution_count": 72,
   "metadata": {},
   "outputs": [],
   "source": [
    "avg_records_per_feb_wd = final_feb_geodf.groupby([pd.to_datetime(final_feb_geodf.timestmp, unit=\"ms\").dt.date]).apply(len).to_frame().reset_index()\n",
    "avg_records_per_feb_wd.loc[:, 'day_name'] = pd.to_datetime(avg_records_per_feb_wd.timestmp).dt.day_name()\n",
    "avg_records_per_feb_wd.loc[:, 'day_name'] = pd.Categorical(avg_records_per_feb_wd.day_name, categories=list(calendar.day_name), ordered=True)\n",
    "avg_records_per_feb_wd.sort_values('day_name', inplace=True)\n",
    "\n",
    "avg_records_per_feb_wd=avg_records_per_feb_wd.groupby(avg_records_per_feb_wd.day_name).apply(sum)/avg_records_per_feb_wd.sum()"
   ]
  },
  {
   "cell_type": "code",
   "execution_count": 74,
   "metadata": {},
   "outputs": [
    {
     "data": {
      "image/png": "[encoded data removed]",
      "text/plain": [
       "<Figure size 700x300 with 1 Axes>"
      ]
     },
     "metadata": {},
     "output_type": "display_data"
    }
   ],
   "source": [
    "avg_records_per_feb_wd.plot.line(cmap='tab20', figsize=(PLT_FIG_WIDTH,PLT_FIG_HEIGHT), fontsize=9, legend=False, rot=30)\n",
    "\n",
    "plt.ticklabel_format(style='sci', axis='y', scilimits=(0,0))\n",
    "plt.suptitle(r' Average AIS activity per weekday in February', fontsize=9, y=1)\n",
    "plt.xlabel(r'Weekday', fontsize=8)\n",
    "plt.ylabel(r'number of records x 10000', fontsize=9)\n",
    "#plt.savefig('./avg_ais_feb.png')\n",
    "plt.show()"
   ]
  },
  {
   "cell_type": "markdown",
   "metadata": {},
   "source": [
    "## AVERAGE SAMPLING RATE PER WEEKDAY IN MARCH "
   ]
  },
  {
   "cell_type": "code",
   "execution_count": 69,
   "metadata": {},
   "outputs": [],
   "source": [
    "avg_records_per_mar_wd = final_mar_geodf.groupby([pd.to_datetime(final_mar_geodf.timestmp, unit=\"ms\").dt.date]).apply(len).to_frame().reset_index()\n",
    "avg_records_per_mar_wd.loc[:, 'day_name'] = pd.to_datetime(avg_records_per_mar_wd.timestmp).dt.day_name()\n",
    "avg_records_per_mar_wd.loc[:, 'day_name'] = pd.Categorical(avg_records_per_mar_wd.day_name, categories=list(calendar.day_name), ordered=True)\n",
    "avg_records_per_mar_wd.sort_values('day_name', inplace=True)\n",
    "\n",
    "avg_records_per_mar_wd=avg_records_per_mar_wd.groupby(avg_records_per_mar_wd.day_name).apply(sum)/avg_records_per_mar_wd.sum()"
   ]
  },
  {
   "cell_type": "code",
   "execution_count": 75,
   "metadata": {},
   "outputs": [
    {
     "data": {
      "image/png": "[encoded data removed]",
      "text/plain": [
       "<Figure size 700x300 with 1 Axes>"
      ]
     },
     "metadata": {},
     "output_type": "display_data"
    }
   ],
   "source": [
    "avg_records_per_mar_wd.plot.line(cmap='tab20', figsize=(PLT_FIG_WIDTH,PLT_FIG_HEIGHT), fontsize=9, legend=False, rot=30)\n",
    "\n",
    "plt.ticklabel_format(style='sci', axis='y', scilimits=(0,0))\n",
    "plt.suptitle(r' Average AIS activity per weekday in March', fontsize=9, y=1)\n",
    "plt.xlabel(r'Weekday', fontsize=8)\n",
    "plt.ylabel(r'number of records x 10000', fontsize=9)\n",
    "#plt.savefig('./avg_ais_mar.png')\n",
    "plt.show()"
   ]
  },
  {
   "cell_type": "markdown",
   "metadata": {},
   "source": [
    "# 2.3 Calculating the acceleration rate and plot the result"
   ]
  },
  {
   "cell_type": "markdown",
   "metadata": {},
   "source": [
    "## ACCELERATION RATE IN FEBRUARY"
   ]
  },
  {
   "cell_type": "code",
   "execution_count": 41,
   "metadata": {},
   "outputs": [
    {
     "data": {
      "text/plain": [
       "Text(0, 0.5, '#records')"
      ]
     },
     "execution_count": 41,
     "metadata": {},
     "output_type": "execute_result"
    },
    {
     "data": {
      "image/png": "[encoded data removed]",
      "text/plain": [
       "<Figure size 504x216 with 1 Axes>"
      ]
     },
     "metadata": {
      "needs_background": "light"
     },
     "output_type": "display_data"
    }
   ],
   "source": [
    "no_of_bins=[-2000, -10, -2, -0.5, -0.25, -0.1, 0, 0.1, 0.25, 0.5, 2, 10, 2000] \n",
    "\n",
    "out = pd.cut(final_feb_geodf.acceleration, no_of_bins)\n",
    "ax = out.value_counts(sort=False).plot.area(figsize=(PLT_FIG_WIDTH,PLT_FIG_HEIGHT), fontsize=8, cmap='tab20', rot=45)\n",
    "\n",
    "plt.ticklabel_format(style='sci', axis='y', scilimits=(0,0))\n",
    "plt.suptitle(r'Vessel acceleration distribution in February', fontsize=8)\n",
    "plt.xlabel(r'acceleration (knots/s)', fontsize=8)\n",
    "plt.ylabel(r'#records', fontsize=8)\n",
    "#plt.savefig('./acc_ais_feb.png')\n",
    "plt.show()"
   ]
  },
  {
   "cell_type": "markdown",
   "metadata": {},
   "source": [
    "## ACCELERATION RATE IN MARCH "
   ]
  },
  {
   "cell_type": "code",
   "execution_count": 42,
   "metadata": {},
   "outputs": [
    {
     "data": {
      "text/plain": [
       "Text(0, 0.5, '#records')"
      ]
     },
     "execution_count": 42,
     "metadata": {},
     "output_type": "execute_result"
    },
    {
     "data": {
      "image/png": "[encoded data removed]",
      "text/plain": [
       "<Figure size 504x216 with 1 Axes>"
      ]
     },
     "metadata": {
      "needs_background": "light"
     },
     "output_type": "display_data"
    }
   ],
   "source": [
    "no_of_bins=[-2000, -10, -2, -0.5, -0.25, -0.1, 0, 0.1, 0.25, 0.5, 2, 10, 2000] \n",
    "\n",
    "out = pd.cut(final_mar_geodf.acceleration, no_of_bins)\n",
    "ax = out.value_counts(sort=False).plot.area(figsize=(PLT_FIG_WIDTH,PLT_FIG_HEIGHT), fontsize=8, cmap='tab20', rot=45)\n",
    "\n",
    "plt.ticklabel_format(style='sci', axis='y', scilimits=(0,0))\n",
    "plt.suptitle(r'Vessel acceleration distribution in March', fontsize=8)\n",
    "plt.xlabel(r'acceleration (knots/s)', fontsize=8)\n",
    "plt.ylabel(r'#records', fontsize=8)\n",
    "#plt.savefig('./acc_ais_mar.png')\n",
    "plt.show()"
   ]
  },
  {
   "cell_type": "markdown",
   "metadata": {},
   "source": [
    "## VESSEL SPEED DISTRIBUTION IN FEBRUARY "
   ]
  },
  {
   "cell_type": "code",
   "execution_count": 43,
   "metadata": {},
   "outputs": [
    {
     "data": {
      "text/plain": [
       "Text(0, 0.5, '#recordsx10000')"
      ]
     },
     "execution_count": 43,
     "metadata": {},
     "output_type": "execute_result"
    },
    {
     "data": {
      "image/png": "[encoded data removed]",
      "text/plain": [
       "<Figure size 504x216 with 1 Axes>"
      ]
     },
     "metadata": {
      "needs_background": "light"
     },
     "output_type": "display_data"
    }
   ],
   "source": [
    "out = pd.cut(final_feb_geodf.velocity, [0, 10, 20, 30, 40, np.round(final_feb_geodf.velocity.max()), np.round(final_feb_geodf.velocity.max())+2])\n",
    "ax = out.value_counts(sort=False).plot.area(figsize=(PLT_FIG_WIDTH,PLT_FIG_HEIGHT), fontsize=8, cmap='tab20', rot=0)\n",
    "ax.set_xticklabels([''] + out.cat.categories.left.values.astype(int).tolist() + [''])\n",
    "\n",
    "plt.suptitle(r'Vessel speed distribution in February', fontsize=8, y=1)\n",
    "plt.xlabel(r'Speed (knots)', fontsize=8)\n",
    "plt.ylabel(r'#recordsx10000', fontsize=8)\n",
    "plt.savefig('./speed_ais_feb.png')\n",
    "plt.show()"
   ]
  },
  {
   "cell_type": "markdown",
   "metadata": {},
   "source": [
    "## VESSEL SPEED DISTRIBUTION IN MARCH "
   ]
  },
  {
   "cell_type": "code",
   "execution_count": 44,
   "metadata": {},
   "outputs": [
    {
     "data": {
      "text/plain": [
       "Text(0, 0.5, '#recordsx10000')"
      ]
     },
     "execution_count": 44,
     "metadata": {},
     "output_type": "execute_result"
    },
    {
     "data": {
      "image/png": "[encoded data removed]",
      "text/plain": [
       "<Figure size 504x216 with 1 Axes>"
      ]
     },
     "metadata": {
      "needs_background": "light"
     },
     "output_type": "display_data"
    }
   ],
   "source": [
    "out = pd.cut(final_mar_geodf.velocity, [0, 10, 20, 30, 40, np.round(final_mar_geodf.velocity.max()), np.round(final_mar_geodf.velocity.max())+2])\n",
    "ax = out.value_counts(sort=False).plot.area(figsize=(PLT_FIG_WIDTH,PLT_FIG_HEIGHT), fontsize=8, cmap='tab20', rot=0)\n",
    "ax.set_xticklabels([''] + out.cat.categories.left.values.astype(int).tolist() + [''])\n",
    "\n",
    "plt.suptitle(r'Vessel speed distribution in March', fontsize=8, y=1)\n",
    "plt.xlabel(r'Speed (knots)', fontsize=8)\n",
    "plt.ylabel(r'#recordsx10000', fontsize=8)\n",
    "plt.savefig('./speed_ais_mar.png')\n",
    "plt.show()"
   ]
  },
  {
   "cell_type": "markdown",
   "metadata": {},
   "source": [
    "## Save the cleansed data in csv files."
   ]
  },
  {
   "cell_type": "code",
   "execution_count": 55,
   "metadata": {},
   "outputs": [],
   "source": [
    "#final_df=final_feb_geodf.append(final_mar_geodf)"
   ]
  },
  {
   "cell_type": "code",
   "execution_count": 56,
   "metadata": {},
   "outputs": [
    {
     "data": {
      "text/plain": [
       "10077049"
      ]
     },
     "execution_count": 56,
     "metadata": {},
     "output_type": "execute_result"
    }
   ],
   "source": [
    "#len(final_df)"
   ]
  },
  {
   "cell_type": "code",
   "execution_count": 49,
   "metadata": {},
   "outputs": [],
   "source": [
    "#final_feb_geodf=final_feb_geodf.drop(columns=['timestamp_sec'])\n",
    "#final_mar_geodf=final_mar_geodf.drop(columns=['timestamp_sec'])"
   ]
  },
  {
   "cell_type": "code",
   "execution_count": 58,
   "metadata": {},
   "outputs": [],
   "source": [
    "#final_df.to_csv('./unipi_ais_feb_mar_2018_clean.csv', header=True, index=False ,sep=';')"
   ]
  },
  {
   "cell_type": "code",
   "execution_count": 52,
   "metadata": {},
   "outputs": [],
   "source": [
    "#final_feb_geodf.to_csv('./unipi_ais_feb_2018_clean.csv', header=True, index=False ,sep=';')"
   ]
  },
  {
   "cell_type": "code",
   "execution_count": 53,
   "metadata": {},
   "outputs": [],
   "source": [
    "#final_mar_geodf.to_csv('./unipi_ais_mar_2018_clean.csv', header=True, index=False ,sep=';')"
   ]
  },
  {
   "cell_type": "code",
   "execution_count": null,
   "metadata": {},
   "outputs": [],
   "source": []
  }
 ],
 "metadata": {
  "kernelspec": {
   "display_name": "Python 3",
   "language": "python",
   "name": "python3"
  },
  "language_info": {
   "codemirror_mode": {
    "name": "ipython",
    "version": 3
   },
   "file_extension": ".py",
   "mimetype": "text/x-python",
   "name": "python",
   "nbconvert_exporter": "python",
   "pygments_lexer": "ipython3",
   "version": "3.8.10"
  }
 },
 "nbformat": 4,
 "nbformat_minor": 4
}
