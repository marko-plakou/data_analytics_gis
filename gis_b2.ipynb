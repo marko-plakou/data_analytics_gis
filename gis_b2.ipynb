{
 "cells": [
  {
   "cell_type": "markdown",
   "metadata": {},
   "source": [
    "# 2.Data acquaintance and Pre-processing"
   ]
  },
  {
   "cell_type": "markdown",
   "metadata": {},
   "source": [
    "## importing the needed libraries"
   ]
  },
  {
   "cell_type": "code",
   "execution_count": 1,
   "metadata": {},
   "outputs": [],
   "source": [
    "import psycopg2\n",
    "import psycopg2.extras\n",
    "import pandas as pd\n",
    "import numpy\n",
    "import shapely\n",
    "\n",
    "\n",
    "import geopandas as gpd\n",
    "import numpy as np\n",
    "\n",
    "import helper\n",
    "import calendar\n",
    "import os, sys\n",
    "\n",
    "import matplotlib.pyplot as plt\n",
    "import matplotlib.gridspec as gridspec\n",
    "from matplotlib import style\n"
   ]
  },
  {
   "cell_type": "code",
   "execution_count": 2,
   "metadata": {},
   "outputs": [],
   "source": [
    "PLT_FIG_WIDTH = 7\n",
    "PLT_FIG_HEIGHT = 3"
   ]
  },
  {
   "cell_type": "code",
   "execution_count": 8,
   "metadata": {},
   "outputs": [],
   "source": [
    "sys.path.append(os.path.join(os.path.expanduser('~'), 'Documents', 'DataStories-UniPi', 'MovinPy'))\n",
    "import cleanse_and_detect_outliers\n",
    "from cleanse_and_detect_outliers import cleanse"
   ]
  },
  {
   "cell_type": "markdown",
   "metadata": {},
   "source": [
    "## Connect to the Postgres DB in order to acquire the raw data"
   ]
  },
  {
   "cell_type": "code",
   "execution_count": 3,
   "metadata": {},
   "outputs": [],
   "source": [
    "con = psycopg2.connect(database='gis_project',  \n",
    "                       user='????',     \n",
    "                       password='????',  \n",
    "                       host='????',  \n",
    "                       port=5432)"
   ]
  },
  {
   "cell_type": "code",
   "execution_count": null,
   "metadata": {},
   "outputs": [],
   "source": [
    "sql_query = 'SELECT * FROM unipi_ais_feb_mar_2018_raw;'\n",
    "geo_df = gpd.GeoDataFrame.from_postgis(sql_query, con, geom_col='geom')"
   ]
  },
  {
   "cell_type": "code",
   "execution_count": 7,
   "metadata": {},
   "outputs": [],
   "source": [
    "geo_df.sort_values('timestmp', inplace=True)#sort data by timestamp"
   ]
  },
  {
   "cell_type": "code",
   "execution_count": 13,
   "metadata": {},
   "outputs": [
    {
     "data": {
      "text/html": [
       "<div>\n",
       "<style scoped>\n",
       "    .dataframe tbody tr th:only-of-type {\n",
       "        vertical-align: middle;\n",
       "    }\n",
       "\n",
       "    .dataframe tbody tr th {\n",
       "        vertical-align: top;\n",
       "    }\n",
       "\n",
       "    .dataframe thead th {\n",
       "        text-align: right;\n",
       "    }\n",
       "</style>\n",
       "<table border=\"1\" class=\"dataframe\">\n",
       "  <thead>\n",
       "    <tr style=\"text-align: right;\">\n",
       "      <th></th>\n",
       "      <th>mmsi</th>\n",
       "      <th>timestmp</th>\n",
       "      <th>geom</th>\n",
       "      <th>lon</th>\n",
       "      <th>lat</th>\n",
       "      <th>velocity</th>\n",
       "      <th>ais_type</th>\n",
       "      <th>ais_status</th>\n",
       "      <th>ais_heading</th>\n",
       "      <th>ais_turn</th>\n",
       "      <th>ais_course</th>\n",
       "    </tr>\n",
       "  </thead>\n",
       "  <tbody>\n",
       "    <tr>\n",
       "      <th>160691</th>\n",
       "      <td>319092600</td>\n",
       "      <td>1517436000000</td>\n",
       "      <td>POINT (23.64761 37.93285)</td>\n",
       "      <td>23.647613</td>\n",
       "      <td>37.932847</td>\n",
       "      <td>0.0</td>\n",
       "      <td>NaN</td>\n",
       "      <td>NaN</td>\n",
       "      <td>135.0</td>\n",
       "      <td>NaN</td>\n",
       "      <td>NaN</td>\n",
       "    </tr>\n",
       "    <tr>\n",
       "      <th>160690</th>\n",
       "      <td>237017200</td>\n",
       "      <td>1517436000000</td>\n",
       "      <td>POINT (23.56900 37.95528)</td>\n",
       "      <td>23.568995</td>\n",
       "      <td>37.955283</td>\n",
       "      <td>0.0</td>\n",
       "      <td>NaN</td>\n",
       "      <td>NaN</td>\n",
       "      <td>NaN</td>\n",
       "      <td>NaN</td>\n",
       "      <td>NaN</td>\n",
       "    </tr>\n",
       "    <tr>\n",
       "      <th>160692</th>\n",
       "      <td>235100119</td>\n",
       "      <td>1517436001000</td>\n",
       "      <td>POINT (23.68193 37.93263)</td>\n",
       "      <td>23.681927</td>\n",
       "      <td>37.932628</td>\n",
       "      <td>0.0</td>\n",
       "      <td>NaN</td>\n",
       "      <td>NaN</td>\n",
       "      <td>242.0</td>\n",
       "      <td>NaN</td>\n",
       "      <td>NaN</td>\n",
       "    </tr>\n",
       "    <tr>\n",
       "      <th>160693</th>\n",
       "      <td>237008100</td>\n",
       "      <td>1517436002000</td>\n",
       "      <td>POINT (23.64102 37.94490)</td>\n",
       "      <td>23.641023</td>\n",
       "      <td>37.944897</td>\n",
       "      <td>0.0</td>\n",
       "      <td>NaN</td>\n",
       "      <td>NaN</td>\n",
       "      <td>NaN</td>\n",
       "      <td>NaN</td>\n",
       "      <td>NaN</td>\n",
       "    </tr>\n",
       "    <tr>\n",
       "      <th>99</th>\n",
       "      <td>239864200</td>\n",
       "      <td>1517436004000</td>\n",
       "      <td>POINT (23.61501 37.94470)</td>\n",
       "      <td>23.615015</td>\n",
       "      <td>37.944697</td>\n",
       "      <td>0.0</td>\n",
       "      <td>NaN</td>\n",
       "      <td>NaN</td>\n",
       "      <td>NaN</td>\n",
       "      <td>NaN</td>\n",
       "      <td>NaN</td>\n",
       "    </tr>\n",
       "  </tbody>\n",
       "</table>\n",
       "</div>"
      ],
      "text/plain": [
       "             mmsi       timestmp                       geom        lon  \\\n",
       "160691  319092600  1517436000000  POINT (23.64761 37.93285)  23.647613   \n",
       "160690  237017200  1517436000000  POINT (23.56900 37.95528)  23.568995   \n",
       "160692  235100119  1517436001000  POINT (23.68193 37.93263)  23.681927   \n",
       "160693  237008100  1517436002000  POINT (23.64102 37.94490)  23.641023   \n",
       "99      239864200  1517436004000  POINT (23.61501 37.94470)  23.615015   \n",
       "\n",
       "              lat  velocity  ais_type  ais_status  ais_heading  ais_turn  \\\n",
       "160691  37.932847       0.0       NaN         NaN        135.0       NaN   \n",
       "160690  37.955283       0.0       NaN         NaN          NaN       NaN   \n",
       "160692  37.932628       0.0       NaN         NaN        242.0       NaN   \n",
       "160693  37.944897       0.0       NaN         NaN          NaN       NaN   \n",
       "99      37.944697       0.0       NaN         NaN          NaN       NaN   \n",
       "\n",
       "        ais_course  \n",
       "160691         NaN  \n",
       "160690         NaN  \n",
       "160692         NaN  \n",
       "160693         NaN  \n",
       "99             NaN  "
      ]
     },
     "execution_count": 13,
     "metadata": {},
     "output_type": "execute_result"
    }
   ],
   "source": [
    "geo_df.head()"
   ]
  },
  {
   "cell_type": "markdown",
   "metadata": {},
   "source": [
    "## 2.1 Clean the noise "
   ]
  },
  {
   "cell_type": "code",
   "execution_count": 10,
   "metadata": {},
   "outputs": [],
   "source": [
    "def data_preprocessing(geo_df2):\n",
    "    geo_df2.drop_duplicates(subset=['mmsi','timestmp'], inplace=True)#drop duplicates\n",
    "    geo_df2.dropna(subset=['mmsi', 'timestmp','speed'], inplace=True) #drop nan values\n",
    "    geo_df2=geo_df2.loc[geo_df2.speed < 50].copy() #drop values where the speed surpasses the 50 knots threshold\n",
    "     #Converting time from msec. to sec.\n",
    "    geo_df2.loc[:, 'timestamp_sec'] = geo_df2.timestmp/10**3\n",
    "    geo_df2=geo_df2.rename(columns={'speed':'velocity'})\n",
    "# Calculate acceleration\n",
    "   # geo_df2 = geo_df2.groupby('mmsi', group_keys=False).apply(lambda gdf: helper.calculate_acceleration(gdf, ts_column='timestamp_sec'))\n",
    "    return geo_df2"
   ]
  },
  {
   "cell_type": "code",
   "execution_count": null,
   "metadata": {},
   "outputs": [],
   "source": [
    "final_geodf=data_preprocessing(geo_df)"
   ]
  },
  {
   "cell_type": "markdown",
   "metadata": {},
   "source": [
    "### Or clean the noise using MovinPy's cleanse which also detects the outliers"
   ]
  },
  {
   "cell_type": "code",
   "execution_count": null,
   "metadata": {},
   "outputs": [],
   "source": [
    "#geo_df=geo_df.rename(columns={'timestmp':'ts','mmsi':'oid','speed':'velocity'})\n",
    "#geo_df.loc[:, 'timestamp_sec'] = geo_df.ts/10**3\n",
    "#geo_df=geo_df[['oid','ts','geom','lon','lat','velocity','acceleration']]\n",
    "#geo_df = geo_df.groupby('oid', group_keys=False).apply(lambda gdf: helper.calculate_acceleration(gdf, ts_column='timestamp_sec'))\n",
    "#clean_gdf=cleanse(geo_df)\n",
    "#len(clean_gdf)"
   ]
  },
  {
   "cell_type": "code",
   "execution_count": null,
   "metadata": {},
   "outputs": [],
   "source": []
  },
  {
   "cell_type": "code",
   "execution_count": 25,
   "metadata": {},
   "outputs": [
    {
     "data": {
      "text/plain": [
       "3980150"
      ]
     },
     "execution_count": 25,
     "metadata": {},
     "output_type": "execute_result"
    }
   ],
   "source": [
    "len(final_geodf)"
   ]
  },
  {
   "cell_type": "markdown",
   "metadata": {},
   "source": [
    "# 3.2 Sampling Rate"
   ]
  },
  {
   "cell_type": "markdown",
   "metadata": {},
   "source": [
    "## Calculating the sampling rate by weekday."
   ]
  },
  {
   "cell_type": "code",
   "execution_count": 18,
   "metadata": {},
   "outputs": [],
   "source": [
    "total_records_per_wd = final_geodf.groupby([pd.to_datetime(final_geodf.timestmp, unit=\"ms\").dt.date]).apply(len).to_frame().reset_index()\n",
    "total_records_per_wd.loc[:, 'day_name'] = pd.to_datetime(total_records_per_wd.timestmp).dt.day_name()\n",
    "total_records_per_wd.loc[:, 'day_name'] = pd.Categorical(total_records_per_wd.day_name, categories=list(calendar.day_name), ordered=True)\n",
    "total_records_per_wd.sort_values('day_name', inplace=True)\n",
    "total_records_per_wd=total_records_per_wd.groupby(total_records_per_wd.day_name).apply(sum)"
   ]
  },
  {
   "cell_type": "markdown",
   "metadata": {},
   "source": [
    "## Plot the results"
   ]
  },
  {
   "cell_type": "code",
   "execution_count": 19,
   "metadata": {},
   "outputs": [
    {
     "data": {
      "text/plain": [
       "Text(0, 0.5, 'Number of records x 10000')"
      ]
     },
     "execution_count": 19,
     "metadata": {},
     "output_type": "execute_result"
    },
    {
     "data": {
      "image/png": "[encoded data removed]",
      "text/plain": [
       "<Figure size 504x216 with 1 Axes>"
      ]
     },
     "metadata": {
      "needs_background": "light"
     },
     "output_type": "display_data"
    }
   ],
   "source": [
    "total_records_per_wd.plot.bar(cmap='tab20', figsize=(PLT_FIG_WIDTH,PLT_FIG_HEIGHT), fontsize=9, width=0.75, legend=False, rot=30)\n",
    "\n",
    "plt.ticklabel_format(style='sci', axis='y', scilimits=(0,0))\n",
    "plt.suptitle(r' Total AIS activity per weekday', fontsize=9, y=1)\n",
    "plt.xlabel(r'Weekday', fontsize=8)\n",
    "plt.ylabel(r'Number of records x 10000', fontsize=9)"
   ]
  },
  {
   "cell_type": "markdown",
   "metadata": {},
   "source": [
    "## Calculate the  average sampling rate per weekday"
   ]
  },
  {
   "cell_type": "code",
   "execution_count": 21,
   "metadata": {},
   "outputs": [],
   "source": [
    "avg_records_per_wd = final_geodf.groupby([pd.to_datetime(final_geodf.timestmp, unit=\"ms\").dt.date]).apply(len).to_frame().reset_index()\n",
    "avg_records_per_wd.loc[:, 'day_name'] = pd.to_datetime(avg_records_per_wd.timestmp).dt.day_name()\n",
    "avg_records_per_wd.loc[:, 'day_name'] = pd.Categorical(avg_records_per_wd.day_name, categories=list(calendar.day_name), ordered=True)\n",
    "avg_records_per_wd.sort_values('day_name', inplace=True)\n",
    "\n",
    "avg_records_per_wd=avg_records_per_wd.groupby(avg_records_per_wd.day_name).apply(lambda x: x.sum()/len(x))"
   ]
  },
  {
   "cell_type": "markdown",
   "metadata": {},
   "source": [
    "## Plot the results"
   ]
  },
  {
   "cell_type": "code",
   "execution_count": 22,
   "metadata": {},
   "outputs": [
    {
     "data": {
      "text/plain": [
       "Text(0, 0.5, 'number of records x 10000')"
      ]
     },
     "execution_count": 22,
     "metadata": {},
     "output_type": "execute_result"
    },
    {
     "data": {
      "image/png": "[encoded data removed]",
      "text/plain": [
       "<Figure size 504x216 with 1 Axes>"
      ]
     },
     "metadata": {
      "needs_background": "light"
     },
     "output_type": "display_data"
    }
   ],
   "source": [
    "avg_records_per_wd.plot.bar(cmap='tab20', figsize=(PLT_FIG_WIDTH,PLT_FIG_HEIGHT), fontsize=9, width=0.75, legend=False, rot=30)\n",
    "\n",
    "plt.ticklabel_format(style='sci', axis='y', scilimits=(0,0))\n",
    "plt.suptitle(r' Average AIS activity per weekday', fontsize=9, y=1)\n",
    "plt.xlabel(r'Weekday', fontsize=8)\n",
    "plt.ylabel(r'number of records x 10000', fontsize=9)"
   ]
  },
  {
   "cell_type": "markdown",
   "metadata": {},
   "source": [
    "# 2.3 Calculating the acceleration rate and plotting the result"
   ]
  },
  {
   "cell_type": "code",
   "execution_count": 23,
   "metadata": {},
   "outputs": [
    {
     "data": {
      "text/plain": [
       "Text(0, 0.5, '#records')"
      ]
     },
     "execution_count": 23,
     "metadata": {},
     "output_type": "execute_result"
    },
    {
     "data": {
      "image/png": "[encoded data removed]",
      "text/plain": [
       "<Figure size 504x216 with 1 Axes>"
      ]
     },
     "metadata": {
      "needs_background": "light"
     },
     "output_type": "display_data"
    }
   ],
   "source": [
    "no_of_bins=[-2000, -10, -2, -0.5, -0.25, -0.1, 0, 0.1, 0.25, 0.5, 2, 10, 2000] \n",
    "\n",
    "out = pd.cut(final_geodf.acceleration, no_of_bins)\n",
    "ax = out.value_counts(sort=False).plot.area(figsize=(PLT_FIG_WIDTH,PLT_FIG_HEIGHT), fontsize=8, cmap='tab20', rot=45)\n",
    "\n",
    "plt.ticklabel_format(style='sci', axis='y', scilimits=(0,0))\n",
    "plt.suptitle(r'Vessel acceleration distribution', fontsize=8)\n",
    "plt.xlabel(r'acceleration (knots/s)', fontsize=8)\n",
    "plt.ylabel(r'#records', fontsize=8)"
   ]
  },
  {
   "cell_type": "code",
   "execution_count": 15,
   "metadata": {},
   "outputs": [
    {
     "data": {
      "text/plain": [
       "Text(0, 0.5, '#recordsx10000')"
      ]
     },
     "execution_count": 15,
     "metadata": {},
     "output_type": "execute_result"
    },
    {
     "data": {
      "image/png": "[encoded data removed]",
      "text/plain": [
       "<Figure size 504x216 with 1 Axes>"
      ]
     },
     "metadata": {
      "needs_background": "light"
     },
     "output_type": "display_data"
    }
   ],
   "source": [
    "out = pd.cut(final_geodf.velocity, [0, 10, 20, 30, 40, 50, 60, np.round(final_geodf.velocity.max()), np.round(final_geodf.velocity.max())+2])\n",
    "ax = out.value_counts(sort=False).plot.area(figsize=(PLT_FIG_WIDTH,PLT_FIG_HEIGHT), fontsize=8, cmap='tab20', rot=0)\n",
    "ax.set_xticklabels([''] + out.cat.categories.left.values.astype(int).tolist() + [''])\n",
    "\n",
    "plt.suptitle(r'Vessel speed distribution', fontsize=8, y=1)\n",
    "plt.xlabel(r'Speed (knots)', fontsize=8)\n",
    "plt.ylabel(r'#recordsx10000', fontsize=8)"
   ]
  },
  {
   "cell_type": "markdown",
   "metadata": {},
   "source": [
    "## Save the cleaned data to a new csv file"
   ]
  },
  {
   "cell_type": "code",
   "execution_count": null,
   "metadata": {},
   "outputs": [],
   "source": [
    "final_geodf.to_csv('./unipi_ais_feb_mar_2018_clean.csv', header=True, index=False ,sep=';')"
   ]
  }
 ],
 "metadata": {
  "kernelspec": {
   "display_name": "Python 3",
   "language": "python",
   "name": "python3"
  },
  "language_info": {
   "codemirror_mode": {
    "name": "ipython",
    "version": 3
   },
   "file_extension": ".py",
   "mimetype": "text/x-python",
   "name": "python",
   "nbconvert_exporter": "python",
   "pygments_lexer": "ipython3",
   "version": "3.8.5"
  }
 },
 "nbformat": 4,
 "nbformat_minor": 4
}
